!pip install googlesearch-python
from googlesearch import search
search_query = input(" أدخل معامل البحث الذي تريد استخدامه في بحث جوجل: ")
results = search(search_query, num_results=20)

if results:
    print("نتائج البحث:")
    for i, result in enumerate(results):
        print(f"{i + 1}. {result}")
else:
    print("لا توجد نتائج للبحث.")
